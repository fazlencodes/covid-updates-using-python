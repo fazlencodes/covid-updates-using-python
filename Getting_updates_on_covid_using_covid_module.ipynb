{
 "cells": [
  {
   "cell_type": "code",
   "execution_count": 1,
   "id": "e6b076b2",
   "metadata": {},
   "outputs": [],
   "source": [
    "from covid import Covid"
   ]
  },
  {
   "cell_type": "code",
   "execution_count": 2,
   "id": "35ffbe9f",
   "metadata": {},
   "outputs": [],
   "source": [
    "covid = Covid()"
   ]
  },
  {
   "cell_type": "code",
   "execution_count": 3,
   "id": "133ecacd",
   "metadata": {},
   "outputs": [],
   "source": [
    "covid = Covid(source=\"worldometers\")"
   ]
  },
  {
   "cell_type": "code",
   "execution_count": 4,
   "id": "8b0271e6",
   "metadata": {},
   "outputs": [],
   "source": [
    "malaysia = covid.get_status_by_country_name(\"malaysia\")"
   ]
  },
  {
   "cell_type": "code",
   "execution_count": 5,
   "id": "ba1a20b3",
   "metadata": {},
   "outputs": [
    {
     "name": "stdout",
     "output_type": "stream",
     "text": [
      "{'country': 'Malaysia', 'total_cases': 1404899, 'confirmed': 1404899, 'new_cases': 0, 'deaths': 12510, 'new_deaths': 0, 'recovered': 1145128, 'active': 247261, 'active_cases': 247261, 'critical': 1059, 'total_tests': 20362627, 'total_tests_per_million': Decimal('0'), 'total_cases_per_million': Decimal('42793'), 'total_deaths_per_million': Decimal('381'), 'population': Decimal('32830111')}\n"
     ]
    }
   ],
   "source": [
    "print(malaysia)"
   ]
  },
  {
   "cell_type": "code",
   "execution_count": 6,
   "id": "829cd087",
   "metadata": {},
   "outputs": [],
   "source": [
    "data = {key:malaysia[key] for key in malaysia.keys() and {'confirmed','deaths', 'recovered'}}"
   ]
  },
  {
   "cell_type": "code",
   "execution_count": 7,
   "id": "9a235d36",
   "metadata": {},
   "outputs": [
    {
     "name": "stdout",
     "output_type": "stream",
     "text": [
      "{'recovered': 1145128, 'deaths': 12510, 'confirmed': 1404899}\n"
     ]
    }
   ],
   "source": [
    "print(data)"
   ]
  }
 ],
 "metadata": {
  "kernelspec": {
   "display_name": "Python 3",
   "language": "python",
   "name": "python3"
  },
  "language_info": {
   "codemirror_mode": {
    "name": "ipython",
    "version": 3
   },
   "file_extension": ".py",
   "mimetype": "text/x-python",
   "name": "python",
   "nbconvert_exporter": "python",
   "pygments_lexer": "ipython3",
   "version": "3.8.8"
  }
 },
 "nbformat": 4,
 "nbformat_minor": 5
}
